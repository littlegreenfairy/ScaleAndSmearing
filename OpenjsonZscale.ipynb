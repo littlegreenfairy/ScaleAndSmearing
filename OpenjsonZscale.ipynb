{
 "cells": [
  {
   "cell_type": "code",
   "execution_count": 6,
   "id": "a0b486b0",
   "metadata": {},
   "outputs": [
    {
     "name": "stdout",
     "output_type": "stream",
     "text": [
      "Available corrections:\n",
      "['2022Re-recoE+PromptFG_ScaleJSON', '2022Re-recoE+PromptFG_SmearingJSON']\n",
      "\n",
      "Correction: 2022Re-recoE+PromptFG_ScaleJSON\n",
      "  Number of inputs: 6\n",
      "    - Input: valtype\n",
      "      Type: string\n",
      "      Description: correction (total_correction) or uncertainty (total_uncertainty)\n",
      "    - Input: gain\n",
      "      Type: int\n",
      "      Description: seed gain\n",
      "    - Input: run\n",
      "      Type: real\n",
      "      Description: run\n",
      "    - Input: eta\n",
      "      Type: real\n",
      "      Description: supercluster eta\n",
      "    - Input: r9\n",
      "      Type: real\n",
      "      Description: r9\n",
      "    - Input: et\n",
      "      Type: real\n",
      "      Description: et\n",
      "\n",
      "Correction: 2022Re-recoE+PromptFG_SmearingJSON\n",
      "  Number of inputs: 3\n",
      "    - Input: valtype\n",
      "      Type: string\n",
      "      Description: correction (total_correction) or uncertainty (total_uncertainty)\n",
      "    - Input: eta\n",
      "      Type: real\n",
      "      Description: supercluster eta\n",
      "    - Input: r9\n",
      "      Type: real\n",
      "      Description: r9\n"
     ]
    }
   ],
   "source": [
    "import json\n",
    "\n",
    "import correctionlib\n",
    "\n",
    "# Carica il file JSON come un CorrectionSet\n",
    "file_path = \"electronSS.json\"\n",
    "evaluator = correctionlib.CorrectionSet.from_file(file_path)\n",
    "\n",
    "# Elenco delle correzioni disponibili\n",
    "print(\"Available corrections:\")\n",
    "print(list(evaluator.keys()))\n",
    "\n",
    "# Esplorazione dettagliata di ciascuna correzione\n",
    "for corr in evaluator.values():\n",
    "    print(f\"\\nCorrection: {corr.name}\")\n",
    "    print(f\"  Number of inputs: {len(corr.inputs)}\")\n",
    "    for ix in corr.inputs:\n",
    "        print(f\"    - Input: {ix.name}\")\n",
    "        print(f\"      Type: {ix.type}\")\n",
    "        print(f\"      Description: {ix.description}\")\n",
    "\n"
   ]
  },
  {
   "cell_type": "code",
   "execution_count": 25,
   "id": "e868a771",
   "metadata": {},
   "outputs": [
    {
     "name": "stdout",
     "output_type": "stream",
     "text": [
      "Result of 2022Re-recoE+PromptFG_ScaleJSON for inputs [361000, 0.5, 35.0]: 1.00351\n"
     ]
    }
   ],
   "source": [
    "# Supponiamo che 'scale_correction' sia una correzione nel tuo file JSON\n",
    "correction_name = \"2022Re-recoE+PromptFG_ScaleJSON\"\n",
    "correction = evaluator[correction_name]\n",
    "\n",
    "# Esegui una correzione con valori di esempio\n",
    "etas = [-1.2, -1.0, -0.8, -0.6, -0.3, 0.0, 0.3, 0.6, 0.8, 1.0, 1.2]\n",
    "pt = [20.0, 25.0, 30.0, 35.0, 40.0]\n",
    "R9s = [0.5, 0.7, 0.9, 1.0]\n",
    "Runs = [360500.0, 361000.0, 361500.0, 362000.0]\n",
    "result = correction.evaluate(\"total_correction\", 1, 361000.0, 0.6, 1.0, 20.0)\n",
    "\n",
    "print(f\"Result of {correction_name} for inputs {inputs}: {result}\")\n"
   ]
  },
  {
   "cell_type": "code",
   "execution_count": 16,
   "id": "bb98cc88",
   "metadata": {},
   "outputs": [
    {
     "name": "stdout",
     "output_type": "stream",
     "text": [
      "Result of 2022Re-recoE+PromptFG_ScaleJSON for eta -1.2: 1.013994\n",
      "Result of 2022Re-recoE+PromptFG_ScaleJSON for eta -1.0: 1.007656\n",
      "Result of 2022Re-recoE+PromptFG_ScaleJSON for eta -0.8: 1.007656\n",
      "Result of 2022Re-recoE+PromptFG_ScaleJSON for eta -0.6: 1.007656\n",
      "Result of 2022Re-recoE+PromptFG_ScaleJSON for eta -0.3: 1.007656\n",
      "Result of 2022Re-recoE+PromptFG_ScaleJSON for eta 0.0: 1.007656\n",
      "Result of 2022Re-recoE+PromptFG_ScaleJSON for eta 0.3: 1.007656\n",
      "Result of 2022Re-recoE+PromptFG_ScaleJSON for eta 0.6: 1.007656\n",
      "Result of 2022Re-recoE+PromptFG_ScaleJSON for eta 0.8: 1.007656\n",
      "Result of 2022Re-recoE+PromptFG_ScaleJSON for eta 1.0: 1.013994\n",
      "Result of 2022Re-recoE+PromptFG_ScaleJSON for eta 1.2: 1.010577\n"
     ]
    }
   ],
   "source": [
    "for eta in etas:\n",
    "    result = correction.evaluate(\"total_correction\", 1, 361000.0, eta, 0.79, 25.0)\n",
    "    print(f\"Result of {correction_name} for eta {eta}: {result}\")"
   ]
  },
  {
   "cell_type": "code",
   "execution_count": 26,
   "id": "bc8de3bc",
   "metadata": {},
   "outputs": [
    {
     "name": "stdout",
     "output_type": "stream",
     "text": [
      "Result of 2022Re-recoE+PromptFG_ScaleJSON for Pt 20.0: 1.00351\n",
      "Result of 2022Re-recoE+PromptFG_ScaleJSON for Pt 25.0: 1.00351\n",
      "Result of 2022Re-recoE+PromptFG_ScaleJSON for Pt 30.0: 1.00351\n",
      "Result of 2022Re-recoE+PromptFG_ScaleJSON for Pt 35.0: 1.00351\n",
      "Result of 2022Re-recoE+PromptFG_ScaleJSON for Pt 40.0: 1.00351\n"
     ]
    }
   ],
   "source": [
    "for Pt in pt:\n",
    "    result = correction.evaluate(\"total_correction\", 1, 361000.0, 0.0, 1.0, Pt)\n",
    "    print(f\"Result of {correction_name} for Pt {Pt}: {result}\")"
   ]
  },
  {
   "cell_type": "code",
   "execution_count": 21,
   "id": "de45afaa",
   "metadata": {},
   "outputs": [
    {
     "name": "stdout",
     "output_type": "stream",
     "text": [
      "Result of 2022Re-recoE+PromptFG_ScaleJSON for R9: 0.5: 1.007656\n",
      "Result of 2022Re-recoE+PromptFG_ScaleJSON for R9: 0.7: 1.007656\n",
      "Result of 2022Re-recoE+PromptFG_ScaleJSON for R9: 0.9: 1.007656\n",
      "Result of 2022Re-recoE+PromptFG_ScaleJSON for R9: 1.0: 1.00351\n"
     ]
    }
   ],
   "source": [
    "for R9 in R9s:\n",
    "    result = correction.evaluate(\"total_correction\", 1, 361000.0, 0.0, R9, 25.0)\n",
    "    print(f\"Result of {correction_name} for R9: {R9}: {result}\")"
   ]
  },
  {
   "cell_type": "code",
   "execution_count": 23,
   "id": "398bca00",
   "metadata": {},
   "outputs": [
    {
     "name": "stdout",
     "output_type": "stream",
     "text": [
      "Result of 2022Re-recoE+PromptFG_ScaleJSON for Run 360500.0: 0.990933\n",
      "Result of 2022Re-recoE+PromptFG_ScaleJSON for Run 361000.0: 1.007656\n",
      "Result of 2022Re-recoE+PromptFG_ScaleJSON for Run 361500.0: 1.007218\n",
      "Result of 2022Re-recoE+PromptFG_ScaleJSON for Run 362000.0: 1.009494\n"
     ]
    }
   ],
   "source": [
    "for Run in Runs:\n",
    "    result = correction.evaluate(\"total_correction\", 1, Run, 0.0, 0.79, 25.0)\n",
    "    print(f\"Result of {correction_name} for Run {Run}: {result}\")"
   ]
  }
 ],
 "metadata": {
  "kernelspec": {
   "display_name": "base",
   "language": "python",
   "name": "python3"
  },
  "language_info": {
   "codemirror_mode": {
    "name": "ipython",
    "version": 3
   },
   "file_extension": ".py",
   "mimetype": "text/x-python",
   "name": "python",
   "nbconvert_exporter": "python",
   "pygments_lexer": "ipython3",
   "version": "3.11.8"
  }
 },
 "nbformat": 4,
 "nbformat_minor": 5
}
