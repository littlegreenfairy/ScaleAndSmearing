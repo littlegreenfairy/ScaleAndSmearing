{
 "cells": [
  {
   "cell_type": "code",
   "execution_count": 18,
   "id": "a0b486b0",
   "metadata": {},
   "outputs": [
    {
     "name": "stdout",
     "output_type": "stream",
     "text": [
      "Available corrections:\n",
      "['2022Re-recoE+PromptFG_ScaleJSON', '2022Re-recoE+PromptFG_SmearingJSON']\n",
      "\n",
      "Correction: 2022Re-recoE+PromptFG_ScaleJSON\n",
      "  Number of inputs: 6\n",
      "    - Input: valtype\n",
      "      Type: string\n",
      "      Description: correction (total_correction) or uncertainty (total_uncertainty)\n",
      "    - Input: gain\n",
      "      Type: int\n",
      "      Description: seed gain\n",
      "    - Input: run\n",
      "      Type: real\n",
      "      Description: run\n",
      "    - Input: eta\n",
      "      Type: real\n",
      "      Description: supercluster eta\n",
      "    - Input: r9\n",
      "      Type: real\n",
      "      Description: r9\n",
      "    - Input: et\n",
      "      Type: real\n",
      "      Description: et\n",
      "\n",
      "Correction: 2022Re-recoE+PromptFG_SmearingJSON\n",
      "  Number of inputs: 3\n",
      "    - Input: valtype\n",
      "      Type: string\n",
      "      Description: correction (total_correction) or uncertainty (total_uncertainty)\n",
      "    - Input: eta\n",
      "      Type: real\n",
      "      Description: supercluster eta\n",
      "    - Input: r9\n",
      "      Type: real\n",
      "      Description: r9\n"
     ]
    }
   ],
   "source": [
    "import json\n",
    "\n",
    "import correctionlib\n",
    "\n",
    "# Carica il file JSON come un CorrectionSet\n",
    "file_path = \"electronSS.json\"\n",
    "evaluator = correctionlib.CorrectionSet.from_file(file_path)\n",
    "\n",
    "# Elenco delle correzioni disponibili\n",
    "print(\"Available corrections:\")\n",
    "print(list(evaluator.keys()))\n",
    "\n",
    "# Esplorazione dettagliata di ciascuna correzione\n",
    "for corr in evaluator.values():\n",
    "    print(f\"\\nCorrection: {corr.name}\")\n",
    "    print(f\"  Number of inputs: {len(corr.inputs)}\")\n",
    "    for ix in corr.inputs:\n",
    "        print(f\"    - Input: {ix.name}\")\n",
    "        print(f\"      Type: {ix.type}\")\n",
    "        print(f\"      Description: {ix.description}\")\n",
    "\n"
   ]
  },
  {
   "cell_type": "code",
   "execution_count": 19,
   "id": "e868a771",
   "metadata": {},
   "outputs": [
    {
     "name": "stdout",
     "output_type": "stream",
     "text": [
      "Result of 2022Re-recoE+PromptFG_ScaleJSON for inputs ('total_correction', 1, 361000.0, 0.6, 1.0, 20.0): 1.00351\n"
     ]
    }
   ],
   "source": [
    "# Supponiamo che 'scale_correction' sia una correzione nel tuo file JSON\n",
    "correction_name = \"2022Re-recoE+PromptFG_ScaleJSON\"\n",
    "correction = evaluator[correction_name]\n",
    "\n",
    "# Esegui una correzione con valori di esempio\n",
    "etas = [-1.2, -1.0, -0.8, -0.6, -0.3, 0.0, 0.3, 0.6, 0.8, 1.0, 1.2]\n",
    "pt = [20.0, 25.0, 30.0, 35.0, 40.0]\n",
    "R9s = [0.5, 0.7, 0.9, 1.0]\n",
    "Runs = [357000.0, 357500.0, 358000.0, 358500.0, 359000.0, 359500.0, 360000.0, 360500.0, 361000.0, 361500.0, 362000.0]\n",
    "\n",
    "# Test inputs: valtype, gain, run, eta, r9, et\n",
    "test_inputs = (\"total_correction\", 1, 361000.0, 0.6, 1.0, 20.0)\n",
    "result = correction.evaluate(\"total_correction\", 1, 361000.0, 0.6, 1.0, 20.0)\n",
    "\n",
    "print(f\"Result of {correction_name} for inputs {test_inputs}: {result}\")"
   ]
  },
  {
   "cell_type": "code",
   "execution_count": 20,
   "id": "bb98cc88",
   "metadata": {},
   "outputs": [
    {
     "name": "stdout",
     "output_type": "stream",
     "text": [
      "Result of 2022Re-recoE+PromptFG_ScaleJSON for eta -1.2: 1.013994\n",
      "Result of 2022Re-recoE+PromptFG_ScaleJSON for eta -1.0: 1.007656\n",
      "Result of 2022Re-recoE+PromptFG_ScaleJSON for eta -0.8: 1.007656\n",
      "Result of 2022Re-recoE+PromptFG_ScaleJSON for eta -0.6: 1.007656\n",
      "Result of 2022Re-recoE+PromptFG_ScaleJSON for eta -0.3: 1.007656\n",
      "Result of 2022Re-recoE+PromptFG_ScaleJSON for eta 0.0: 1.007656\n",
      "Result of 2022Re-recoE+PromptFG_ScaleJSON for eta 0.3: 1.007656\n",
      "Result of 2022Re-recoE+PromptFG_ScaleJSON for eta 0.6: 1.007656\n",
      "Result of 2022Re-recoE+PromptFG_ScaleJSON for eta 0.8: 1.007656\n",
      "Result of 2022Re-recoE+PromptFG_ScaleJSON for eta 1.0: 1.013994\n",
      "Result of 2022Re-recoE+PromptFG_ScaleJSON for eta 1.2: 1.010577\n"
     ]
    }
   ],
   "source": [
    "for eta in etas:\n",
    "    result = correction.evaluate(\"total_correction\", 1, 361000.0, eta, 0.79, 25.0)\n",
    "    print(f\"Result of {correction_name} for eta {eta}: {result}\")"
   ]
  },
  {
   "cell_type": "code",
   "execution_count": 21,
   "id": "bc8de3bc",
   "metadata": {},
   "outputs": [
    {
     "name": "stdout",
     "output_type": "stream",
     "text": [
      "Result of 2022Re-recoE+PromptFG_ScaleJSON for Pt 20.0: 1.00351\n",
      "Result of 2022Re-recoE+PromptFG_ScaleJSON for Pt 25.0: 1.00351\n",
      "Result of 2022Re-recoE+PromptFG_ScaleJSON for Pt 30.0: 1.00351\n",
      "Result of 2022Re-recoE+PromptFG_ScaleJSON for Pt 35.0: 1.00351\n",
      "Result of 2022Re-recoE+PromptFG_ScaleJSON for Pt 40.0: 1.00351\n"
     ]
    }
   ],
   "source": [
    "for Pt in pt:\n",
    "    result = correction.evaluate(\"total_correction\", 1, 361000.0, 0.0, 1.0, Pt)\n",
    "    print(f\"Result of {correction_name} for Pt {Pt}: {result}\")"
   ]
  },
  {
   "cell_type": "code",
   "execution_count": 22,
   "id": "de45afaa",
   "metadata": {},
   "outputs": [
    {
     "name": "stdout",
     "output_type": "stream",
     "text": [
      "Result of 2022Re-recoE+PromptFG_ScaleJSON for R9: 0.5: 1.007656\n",
      "Result of 2022Re-recoE+PromptFG_ScaleJSON for R9: 0.7: 1.007656\n",
      "Result of 2022Re-recoE+PromptFG_ScaleJSON for R9: 0.9: 1.007656\n",
      "Result of 2022Re-recoE+PromptFG_ScaleJSON for R9: 1.0: 1.00351\n"
     ]
    }
   ],
   "source": [
    "for R9 in R9s:\n",
    "    result = correction.evaluate(\"total_correction\", 1, 361000.0, 0.0, R9, 25.0)\n",
    "    print(f\"Result of {correction_name} for R9: {R9}: {result}\")"
   ]
  },
  {
   "cell_type": "code",
   "execution_count": 23,
   "id": "398bca00",
   "metadata": {},
   "outputs": [
    {
     "name": "stdout",
     "output_type": "stream",
     "text": [
      "Result of 2022Re-recoE+PromptFG_ScaleJSON for Run 357000.0: 1.0\n",
      "Result of 2022Re-recoE+PromptFG_ScaleJSON for Run 357500.0: 1.0\n",
      "Result of 2022Re-recoE+PromptFG_ScaleJSON for Run 358000.0: 1.0\n",
      "Result of 2022Re-recoE+PromptFG_ScaleJSON for Run 358500.0: 1.0\n",
      "Result of 2022Re-recoE+PromptFG_ScaleJSON for Run 359000.0: 1.0\n",
      "Result of 2022Re-recoE+PromptFG_ScaleJSON for Run 359500.0: 1.0\n",
      "Result of 2022Re-recoE+PromptFG_ScaleJSON for Run 360000.0: 1.018804\n",
      "Result of 2022Re-recoE+PromptFG_ScaleJSON for Run 360500.0: 0.990933\n",
      "Result of 2022Re-recoE+PromptFG_ScaleJSON for Run 361000.0: 1.007656\n",
      "Result of 2022Re-recoE+PromptFG_ScaleJSON for Run 361500.0: 1.007218\n",
      "Result of 2022Re-recoE+PromptFG_ScaleJSON for Run 362000.0: 1.009494\n"
     ]
    }
   ],
   "source": [
    "for Run in Runs:\n",
    "    result = correction.evaluate(\"total_correction\", 1, Run, 0.0, 0.79, 25.0)\n",
    "    print(f\"Result of {correction_name} for Run {Run}: {result}\")"
   ]
  },
  {
   "cell_type": "code",
   "execution_count": 24,
   "id": "0b5f9eea",
   "metadata": {},
   "outputs": [
    {
     "name": "stdout",
     "output_type": "stream",
     "text": [
      "Smearing rho for eta=0.0, r9=0.79: 0.01476\n",
      "Smearing uncertainty for eta=0.0, r9=0.79: 7e-05\n",
      "\n",
      "Smearing values across eta:\n",
      "eta=-1.2: rho=0.02636 ± 0.000130\n",
      "eta=-1.0: rho=0.01476 ± 0.000070\n",
      "eta=-0.8: rho=0.01476 ± 0.000070\n",
      "eta=-0.6: rho=0.01476 ± 0.000070\n",
      "eta=-0.3: rho=0.01476 ± 0.000070\n",
      "eta= 0.0: rho=0.01476 ± 0.000070\n",
      "eta= 0.3: rho=0.01476 ± 0.000070\n",
      "eta= 0.6: rho=0.01476 ± 0.000070\n",
      "eta= 0.8: rho=0.01476 ± 0.000070\n",
      "eta= 1.0: rho=0.02636 ± 0.000130\n",
      "eta= 1.2: rho=0.02636 ± 0.000130\n"
     ]
    }
   ],
   "source": [
    "# Test smearing corrections\n",
    "smearing_name = \"2022Re-recoE+PromptFG_SmearingJSON\"\n",
    "smearing_correction = evaluator[smearing_name]\n",
    "\n",
    "# Test rho (smearing factor)\n",
    "rho_result = smearing_correction.evaluate(\"rho\", 0.0, 0.79)\n",
    "print(f\"Smearing rho for eta=0.0, r9=0.79: {rho_result}\")\n",
    "\n",
    "# Test uncertainty\n",
    "err_rho_result = smearing_correction.evaluate(\"err_rho\", 0.0, 0.79)\n",
    "print(f\"Smearing uncertainty for eta=0.0, r9=0.79: {err_rho_result}\")\n",
    "\n",
    "# Test across different eta values\n",
    "print(\"\\nSmearing values across eta:\")\n",
    "for eta in etas:\n",
    "    rho = smearing_correction.evaluate(\"rho\", eta, 0.79)\n",
    "    err_rho = smearing_correction.evaluate(\"err_rho\", eta, 0.79)\n",
    "    print(f\"eta={eta:4.1f}: rho={rho:.5f} ± {err_rho:.6f}\")"
   ]
  },
  {
   "cell_type": "code",
   "execution_count": 25,
   "id": "289249b1",
   "metadata": {},
   "outputs": [
    {
     "name": "stdout",
     "output_type": "stream",
     "text": [
      "For electron with eta=0.0, r9=0.79, et=25.0 GeV:\n",
      "  Scale correction factor: 1.007656\n",
      "  Smearing parameter (rho): 0.01476 ± 0.000070\n",
      "  Corrected energy: 25.19 GeV\n",
      "\n",
      "============================================================\n",
      "Corrections for multiple electrons:\n",
      "============================================================\n",
      "   eta     r9     et    scale      rho  err_rho\n",
      "------------------------------------------------------------\n",
      "  -1.0   0.50   20.0  1.00766  0.01476 0.000070\n",
      "  -0.5   0.90   30.0  1.00766  0.01476 0.000070\n",
      "   0.0   0.79   25.0  1.00766  0.01476 0.000070\n",
      "   0.5   0.95   35.0  1.00766  0.01476 0.000070\n",
      "   1.0   0.70   40.0  1.01399  0.02636 0.000130\n"
     ]
    }
   ],
   "source": [
    "# Comprehensive example: applying both scale and smearing corrections\n",
    "import numpy as np\n",
    "\n",
    "def apply_corrections(eta, r9, et, run=361000.0, gain=1):\n",
    "    \"\"\"\n",
    "    Apply both scale and smearing corrections to an electron\n",
    "    \n",
    "    Parameters:\n",
    "    - eta: pseudorapidity of the electron supercluster\n",
    "    - r9: shower shape variable\n",
    "    - et: transverse energy\n",
    "    - run: run number (default 361000.0)\n",
    "    - gain: detector gain (default 1)\n",
    "    \n",
    "    Returns:\n",
    "    - scale_factor: energy scale correction\n",
    "    - smearing_rho: smearing parameter\n",
    "    - smearing_uncertainty: uncertainty on smearing\n",
    "    \"\"\"\n",
    "    \n",
    "    # Get scale correction\n",
    "    scale_correction = evaluator[\"2022Re-recoE+PromptFG_ScaleJSON\"]\n",
    "    scale_factor = scale_correction.evaluate(\"total_correction\", gain, run, eta, r9, et)\n",
    "    \n",
    "    # Get smearing correction  \n",
    "    smearing_correction = evaluator[\"2022Re-recoE+PromptFG_SmearingJSON\"]\n",
    "    smearing_rho = smearing_correction.evaluate(\"rho\", eta, r9)\n",
    "    smearing_uncertainty = smearing_correction.evaluate(\"err_rho\", eta, r9)\n",
    "    \n",
    "    return scale_factor, smearing_rho, smearing_uncertainty\n",
    "\n",
    "# Example usage\n",
    "eta_test = 0.0\n",
    "r9_test = 0.79\n",
    "et_test = 25.0\n",
    "\n",
    "scale, rho, err_rho = apply_corrections(eta_test, r9_test, et_test)\n",
    "\n",
    "print(f\"For electron with eta={eta_test}, r9={r9_test}, et={et_test} GeV:\")\n",
    "print(f\"  Scale correction factor: {scale:.6f}\")\n",
    "print(f\"  Smearing parameter (rho): {rho:.5f} ± {err_rho:.6f}\")\n",
    "print(f\"  Corrected energy: {et_test * scale:.2f} GeV\")\n",
    "\n",
    "# Apply to multiple electrons\n",
    "print(\"\\n\" + \"=\"*60)\n",
    "print(\"Corrections for multiple electrons:\")\n",
    "print(\"=\"*60)\n",
    "print(f\"{'eta':>6} {'r9':>6} {'et':>6} {'scale':>8} {'rho':>8} {'err_rho':>8}\")\n",
    "print(\"-\"*60)\n",
    "\n",
    "test_electrons = [\n",
    "    (-1.0, 0.5, 20.0),\n",
    "    (-0.5, 0.9, 30.0),\n",
    "    (0.0, 0.79, 25.0),\n",
    "    (0.5, 0.95, 35.0),\n",
    "    (1.0, 0.7, 40.0)\n",
    "]\n",
    "\n",
    "for eta, r9, et in test_electrons:\n",
    "    scale, rho, err_rho = apply_corrections(eta, r9, et)\n",
    "    print(f\"{eta:6.1f} {r9:6.2f} {et:6.1f} {scale:8.5f} {rho:8.5f} {err_rho:8.6f}\")"
   ]
  },
  {
   "cell_type": "code",
   "execution_count": 41,
   "id": "18811eda",
   "metadata": {},
   "outputs": [
    {
     "name": "stdout",
     "output_type": "stream",
     "text": [
      "Run bin analysis:\n",
      "Bin edges: [356309, 356900, 357538, 357732, 360000, 360400, 361000, 361600, 362200, 362760]\n",
      "Central values: [356604.5, 357219.0, 357635.0, 358866.0, 360200.0, 360700.0, 361300.0, 361900.0, 362480.0]\n",
      "Half-widths: [295.5, 319.0, 97.0, 1134.0, 200.0, 300.0, 300.0, 300.0, 280.0]\n",
      "\n",
      "Scale corrections for eta=0.7, r9=0.79, et=25.0 GeV:\n",
      " Central Run   Half-width    Scale Factor\n",
      "---------------------------------------------\n",
      "    356604.5        295.5      1.00000000\n",
      "    357219.0        319.0      1.00000000\n",
      "    357635.0         97.0      1.00000000\n",
      "    358866.0       1134.0      1.00000000\n",
      "    360200.0        200.0      1.00456500\n",
      "    360700.0        300.0      0.99093300\n",
      "    361300.0        300.0      1.00654500\n",
      "    361900.0        300.0      1.00763900\n",
      "    362480.0        280.0      1.01584400\n"
     ]
    },
    {
     "data": {
      "image/png": "[encoded data removed]",
      "text/plain": [
       "<Figure size 800x600 with 1 Axes>"
      ]
     },
     "metadata": {},
     "output_type": "display_data"
    },
    {
     "name": "stdout",
     "output_type": "stream",
     "text": [
      "\n",
      "Summary Statistics:\n",
      "Mean scale correction: 1.00283622\n",
      "Standard deviation: 0.00652241\n",
      "Min scale correction: 0.99093300\n",
      "Max scale correction: 1.01584400\n",
      "Range: 0.02491100\n"
     ]
    }
   ],
   "source": [
    "import matplotlib.pyplot as plt\n",
    "import numpy as np\n",
    "\n",
    "# Define the run number bins as provided\n",
    "run_bins = [356309, 356900, 357538, 357732, 360000, 360400, 361000, 361600, 362200, 362760]\n",
    "\n",
    "estimated_corrections = [0.987, 0.986, 0.985, 1.004, 0.990, 0.990, 1.004, 1.012, 1.011]\n",
    "\n",
    "\n",
    "# Calculate central values for each bin (midpoint between consecutive runs)\n",
    "central_runs = []\n",
    "half_widths = []\n",
    "\n",
    "for i in range(len(run_bins) - 1):\n",
    "    central = (run_bins[i] + run_bins[i+1]) / 2\n",
    "    half_width = (run_bins[i+1] - run_bins[i]) / 2\n",
    "    central_runs.append(central)\n",
    "    half_widths.append(half_width)\n",
    "\n",
    "print(\"Run bin analysis:\")\n",
    "print(\"Bin edges:\", run_bins)\n",
    "print(\"Central values:\", central_runs)\n",
    "print(\"Half-widths:\", half_widths)\n",
    "\n",
    "# Extract scale corrections for the central run values\n",
    "# Using fixed parameters: eta=0.0, r9=0.79, et=25.0, gain=1\n",
    "scale_corrections = []\n",
    "eta_fixed = 0.7\n",
    "r9_fixed = 0.79\n",
    "et_fixed = 25.0\n",
    "gain_fixed = 1\n",
    "\n",
    "correction_name = \"2022Re-recoE+PromptFG_ScaleJSON\"\n",
    "correction = evaluator[correction_name]\n",
    "\n",
    "print(f\"\\nScale corrections for eta={eta_fixed}, r9={r9_fixed}, et={et_fixed} GeV:\")\n",
    "print(f\"{'Central Run':>12} {'Half-width':>12} {'Scale Factor':>15}\")\n",
    "print(\"-\" * 45)\n",
    "\n",
    "for central_run, half_width in zip(central_runs, half_widths):\n",
    "    scale_factor = correction.evaluate(\"total_correction\", gain_fixed, central_run, eta_fixed, r9_fixed, et_fixed)\n",
    "    scale_corrections.append(scale_factor)\n",
    "    print(f\"{central_run:12.1f} {half_width:12.1f} {scale_factor:15.8f}\")\n",
    "\n",
    "# Create the plot\n",
    "plt.figure(figsize=(8, 6))\n",
    "plt.errorbar(central_runs, scale_corrections, xerr=half_widths, \n",
    "             fmt='o', capsize=5, capthick=2, linewidth=2, markersize=8,\n",
    "             color='blue', ecolor='red', label='Scale corrections')\n",
    "\n",
    "plt.errorbar(central_runs, estimated_corrections, xerr=half_widths,\n",
    "             fmt='s', capsize=5, capthick=2, linewidth=2, markersize=8,\n",
    "             color='green', ecolor='green', label='Estimated corrections')\n",
    "\n",
    "plt.xlabel('Run Number', fontsize=14)\n",
    "plt.ylabel('Scale Correction Factor', fontsize=14)\n",
    "plt.title(f'Scale Corrections vs Run Number\\n(η={eta_fixed}, R9={r9_fixed}, Et={et_fixed} GeV)', fontsize=16)\n",
    "plt.grid(True, alpha=0.3)\n",
    "plt.legend(fontsize=12)\n",
    "\n",
    "# Format the plot\n",
    "plt.ticklabel_format(style='plain', axis='x')\n",
    "plt.xticks(rotation=45)\n",
    "plt.tight_layout()\n",
    "\n",
    "# Add some statistics\n",
    "mean_scale = np.mean(scale_corrections)\n",
    "std_scale = np.std(scale_corrections)\n",
    "# Plot a horizontal line at the mean scale correction value\n",
    "#plt.axhline(1.001, color='green', linestyle='--', linewidth=2, label=f'Correction from control bin = {mean_scale:.8f}')\n",
    "\n",
    "plt.legend(fontsize=12)\n",
    "\n",
    "plt.show()\n",
    "\n",
    "# Print summary statistics\n",
    "print(f\"\\nSummary Statistics:\")\n",
    "print(f\"Mean scale correction: {mean_scale:.8f}\")\n",
    "print(f\"Standard deviation: {std_scale:.8f}\")\n",
    "print(f\"Min scale correction: {min(scale_corrections):.8f}\")\n",
    "print(f\"Max scale correction: {max(scale_corrections):.8f}\")\n",
    "print(f\"Range: {max(scale_corrections) - min(scale_corrections):.8f}\")"
   ]
  }
 ],
 "metadata": {
  "kernelspec": {
   "display_name": "base",
   "language": "python",
   "name": "python3"
  },
  "language_info": {
   "codemirror_mode": {
    "name": "ipython",
    "version": 3
   },
   "file_extension": ".py",
   "mimetype": "text/x-python",
   "name": "python",
   "nbconvert_exporter": "python",
   "pygments_lexer": "ipython3",
   "version": "3.11.8"
  }
 },
 "nbformat": 4,
 "nbformat_minor": 5
}
